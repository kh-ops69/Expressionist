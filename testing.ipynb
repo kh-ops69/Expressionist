{
 "cells": [
  {
   "cell_type": "markdown",
   "metadata": {},
   "source": [
    "Advanced Neural Network Architecture to be made (AdNN) with the information-validation gate included with two neural networks and weight updation after passing those cases whose predictions the first neural network got wrong , learn those features and then have separate neuronal layers in the first neural network that can take these learned parameters in case some new test case comes in (this can be used to improve accuracy where neural networks typcially fail to learn features)"
   ]
  },
  {
   "cell_type": "markdown",
   "metadata": {},
   "source": [
    "contain training set where we observe how often a particular model gets some prediction right or wrong, test the models on a set of images obtained from function to retrieve random images each time it is called. based on the predictions, penalize or reward the model for each correct prediction and adjust that model's weightage in the final output \n",
    "\n",
    "use the validation set of images for ensemble-based voting for testing and validating output,after which use the images retrieved from user side in UI"
   ]
  },
  {
   "cell_type": "code",
   "execution_count": 5,
   "metadata": {},
   "outputs": [
    {
     "name": "stdout",
     "output_type": "stream",
     "text": [
      "['22910.jpg', '27277.jpg', '18080.jpg', '21098.jpg', '16423.jpg', '18930.jpg', '23786.jpg', '5154.jpg', '14759.jpg', '13037.jpg', '30822.jpg', '356.jpg', '333.jpg', '1381.jpg', '17007.jpg', '23621.jpg', '17552.jpg', '4607.jpg', '25902.jpg', '5127.jpg', '14757.jpg', '7244.jpg', '15455.jpg', '28140.jpg', '4827.jpg', '7537.jpg', '18505.jpg', '35209.jpg', '20984.jpg', '22347.jpg', '20519.jpg', '5006.jpg', '3755.jpg', '21200.jpg', '1815.jpg', '4269.jpg', '20165.jpg', '34510.jpg', '14586.jpg', '16308.jpg', '30245.jpg', '30188.jpg', '22784.jpg', '24536.jpg', '1020.jpg', '34471.jpg', '34468.jpg', '33407.jpg', '19696.jpg', '27196.jpg', '8691.jpg', '27333.jpg', '22804.jpg', '17524.jpg', '5264.jpg', '26370.jpg', '22750.jpg', '18578.jpg', '20218.jpg', '29724.jpg', '19160.jpg', '28522.jpg', '3138.jpg', '10811.jpg', '24884.jpg', '21235.jpg', '33660.jpg', '19548.jpg', '25649.jpg', '4185.jpg', '24390.jpg', '11549.jpg', '17682.jpg', '11733.jpg', '2603.jpg', '14378.jpg', '31811.jpg', '3447.jpg', '28046.jpg', '210.jpg', '15885.jpg', '20216.jpg', '22056.jpg', '11717.jpg', '2885.jpg', '10312.jpg', '30728.jpg', '16120.jpg']\n",
      "['17100.jpg', '15696.jpg', '9087.jpg', '17794.jpg', '31265.jpg', '15565.jpg', '19893.jpg', '6215.jpg', '31665.jpg', '9219.jpg', '8333.jpg', '8851.jpg', '8718.jpg', '15909.jpg', '4860.jpg', '19864.jpg', '26339.jpg', '2751.jpg', '26612.jpg', '6353.jpg', '9548.jpg', '7963.jpg', '22271.jpg', '12758.jpg', '14524.jpg', '14208.jpg', '29379.jpg', '27518.jpg', '24916.jpg', '32861.jpg', '27576.jpg', '11280.jpg', '5055.jpg']\n",
      "['14551.jpg', '12383.jpg', '21946.jpg', '29291.jpg', '6909.jpg', '418.jpg', '13482.jpg', '10458.jpg', '15134.jpg', '26275.jpg', '23731.jpg', '6346.jpg', '1116.jpg', '22326.jpg', '5263.jpg', '16450.jpg', '3601.jpg', '14268.jpg', '2906.jpg', '12737.jpg', '19897.jpg', '1534.jpg', '859.jpg', '12431.jpg', '10944.jpg', '4200.jpg', '25108.jpg', '16632.jpg', '23100.jpg', '29733.jpg', '20037.jpg', '14011.jpg', '33097.jpg', '23038.jpg', '24213.jpg', '5957.jpg', '5184.jpg', '16539.jpg', '4296.jpg', '5117.jpg', '19841.jpg', '19810.jpg', '4098.jpg', '35120.jpg', '20135.jpg', '22130.jpg', '16811.jpg', '483.jpg', '3719.jpg', '12472.jpg', '28859.jpg', '22166.jpg', '30482.jpg', '10979.jpg', '14044.jpg', '19216.jpg', '16346.jpg', '19089.jpg', '12674.jpg', '28331.jpg', '28267.jpg', '20495.jpg', '12592.jpg', '13587.jpg', '314.jpg', '20579.jpg', '27094.jpg', '31007.jpg', '16559.jpg', '33440.jpg', '19000.jpg']\n",
      "['13230.jpg', '10950.jpg', '35049.jpg', '25906.jpg', '14927.jpg', '35118.jpg', '29354.jpg', '31781.jpg', '726.jpg', '10701.jpg', '3603.jpg', '24179.jpg', '28803.jpg', '19187.jpg', '16415.jpg', '20262.jpg', '25687.jpg', '28653.jpg', '6797.jpg', '27737.jpg', '11589.jpg', '12768.jpg', '12312.jpg', '11126.jpg', '35084.jpg', '8439.jpg', '16756.jpg', '5450.jpg', '18313.jpg', '9141.jpg', '12504.jpg', '2758.jpg', '22525.jpg', '3445.jpg', '25709.jpg', '32630.jpg', '32165.jpg', '29884.jpg', '20467.jpg', '33147.jpg', '18864.jpg', '34237.jpg', '8837.jpg', '24050.jpg', '21834.jpg', '13876.jpg', '33879.jpg', '14968.jpg', '13684.jpg', '15238.jpg', '10545.jpg', '330.jpg', '27328.jpg', '3925.jpg', '3691.jpg', '12960.jpg', '26087.jpg', '15533.jpg', '8309.jpg', '2835.jpg', '4390.jpg', '35872.jpg', '1249.jpg', '15487.jpg', '35194.jpg', '18555.jpg', '5938.jpg', '19177.jpg', '32365.jpg', '27577.jpg', '10097.jpg', '7626.jpg', '4621.jpg', '1033.jpg', '16507.jpg', '11466.jpg', '15034.jpg', '8137.jpg', '31097.jpg', '20293.jpg', '5664.jpg', '6410.jpg', '6216.jpg', '28727.jpg', '1914.jpg', '28421.jpg', '15101.jpg', '5530.jpg', '26944.jpg', '17290.jpg', '18577.jpg']\n",
      "['891.jpg', '11518.jpg', '7571.jpg', '3600.jpg', '28278.jpg', '10150.jpg', '7376.jpg', '32355.jpg', '11233.jpg', '20372.jpg', '4062.jpg', '32683.jpg', '2279.jpg', '5651.jpg', '32321.jpg', '3986.jpg', '14190.jpg', '13498.jpg', '22691.jpg', '3050.jpg', '7773.jpg', '8264.jpg', '4137.jpg', '10247.jpg', '11560.jpg', '26069.jpg', '14717.jpg', '13808.jpg', '14154.jpg', '35704.jpg', '14135.jpg', '15334.jpg', '23666.jpg', '7788.jpg', '34269.jpg', '33013.jpg', '21351.jpg', '30220.jpg', '29428.jpg', '1737.jpg', '23167.jpg', '9867.jpg', '27306.jpg', '14352.jpg', '28153.jpg', '3174.jpg', '26023.jpg', '14187.jpg', '22867.jpg', '838.jpg', '25401.jpg', '18431.jpg', '19340.jpg']\n",
      "['22309.jpg', '23886.jpg', '8969.jpg', '26177.jpg', '31083.jpg', '33105.jpg', '33633.jpg', '27798.jpg', '1358.jpg', '23008.jpg', '18050.jpg', '6547.jpg', '18161.jpg', '9748.jpg', '13267.jpg', '33666.jpg', '3370.jpg', '22198.jpg', '157.jpg', '35828.jpg', '6484.jpg', '1106.jpg', '10839.jpg', '26267.jpg', '16768.jpg', '13533.jpg', '18566.jpg', '14498.jpg', '20451.jpg', '8902.jpg', '6566.jpg', '15699.jpg', '26124.jpg', '13514.jpg', '25874.jpg', '16102.jpg', '4100.jpg', '18837.jpg', '4751.jpg', '25886.jpg', '1177.jpg', '18602.jpg', '28614.jpg', '19067.jpg', '21173.jpg', '21782.jpg', '35149.jpg', '27770.jpg', '5739.jpg', '10079.jpg', '18492.jpg', '28720.jpg', '1908.jpg', '4700.jpg', '33301.jpg', '26900.jpg', '5432.jpg', '25813.jpg', '19093.jpg', '19923.jpg', '32367.jpg', '24660.jpg', '9293.jpg', '5888.jpg', '24797.jpg', '18810.jpg', '14243.jpg', '17170.jpg', '5434.jpg']\n",
      "['29269.jpg', '8726.jpg', '1115.jpg', '28390.jpg', '20761.jpg', '3521.jpg', '19649.jpg', '4481.jpg', '6231.jpg', '14958.jpg', '30601.jpg', '23141.jpg', '1843.jpg', '14869.jpg', '32487.jpg', '7592.jpg', '11222.jpg', '15110.jpg', '31796.jpg', '23153.jpg', '28987.jpg', '11639.jpg', '33670.jpg', '25541.jpg', '8585.jpg', '34505.jpg', '4002.jpg', '7405.jpg', '34022.jpg', '4312.jpg', '16264.jpg', '13597.jpg', '25267.jpg', '34519.jpg', '2742.jpg', '16718.jpg', '21744.jpg', '573.jpg', '30347.jpg', '24578.jpg', '807.jpg', '29158.jpg', '31323.jpg', '9043.jpg', '10532.jpg', '14041.jpg', '19801.jpg', '6926.jpg', '3778.jpg', '30907.jpg', '7455.jpg', '9504.jpg', '16054.jpg', '10435.jpg', '33561.jpg', '3690.jpg', '16121.jpg', '26859.jpg', '23665.jpg', '7192.jpg', '35376.jpg', '5085.jpg', '18464.jpg', '13847.jpg', '31828.jpg', '22320.jpg', '30428.jpg', '18716.jpg', '33995.jpg', '30499.jpg', '14954.jpg', '30719.jpg', '23876.jpg', '19831.jpg', '4265.jpg', '33209.jpg', '11529.jpg', '33284.jpg', '4737.jpg', '32681.jpg', '8948.jpg', '2732.jpg', '9297.jpg', '31232.jpg']\n"
     ]
    }
   ],
   "source": [
    "import os, random\n",
    "from operator import itemgetter \n",
    "\n",
    "# Specify the path to your main directory\n",
    "main_dir = \"/Users/krishhashia/Downloads/images/images/validation\"\n",
    "\n",
    "# Get a list of all files in the directory\n",
    "sub_directories = os.listdir(main_dir)\n",
    "for sub_directory in sub_directories:\n",
    "    current_dir_files = os.listdir(main_dir+'/'+sub_directory)\n",
    "    # print(current_dir_files[:10])\n",
    "    num_samples = random.randint(30, 100)\n",
    "    random_file_subset = random.sample(current_dir_files, num_samples)\n",
    "    print(random_file_subset)\n",
    "\n",
    "def subsetFilesGeneration(input_dir, min_test_range, max_test_range):\n",
    "# Get a list of all files in the directory\n",
    "    sub_directories = os.listdir(input_dir)\n",
    "    final_test_directory = {}\n",
    "    for sub_directory in sub_directories:\n",
    "        current_dir_files = os.listdir(input_dir+'/'+sub_directory)\n",
    "        num_samples = random.randint(min_test_range, max_test_range)\n",
    "        random_file_subset = random.sample(current_dir_files, num_samples)\n",
    "        final_test_directory[sub_directory] = random_file_subset\n",
    "        return final_test_directory\n",
    "    \n",
    "def find_weightage():\n",
    "    pass\n",
    "\n"
   ]
  },
  {
   "cell_type": "code",
   "execution_count": 26,
   "metadata": {},
   "outputs": [
    {
     "ename": "ModuleNotFoundError",
     "evalue": "No module named 'tensorflow.keras'",
     "output_type": "error",
     "traceback": [
      "\u001b[0;31m---------------------------------------------------------------------------\u001b[0m",
      "\u001b[0;31mModuleNotFoundError\u001b[0m                       Traceback (most recent call last)",
      "Cell \u001b[0;32mIn[26], line 6\u001b[0m\n\u001b[1;32m      4\u001b[0m \u001b[39mimport\u001b[39;00m \u001b[39mdeepface\u001b[39;00m\n\u001b[1;32m      5\u001b[0m \u001b[39mimport\u001b[39;00m \u001b[39mdeepface\u001b[39;00m\u001b[39m.\u001b[39;00m\u001b[39mmodels\u001b[39;00m\n\u001b[0;32m----> 6\u001b[0m \u001b[39mimport\u001b[39;00m \u001b[39mdeepface\u001b[39;00m\u001b[39m.\u001b[39;00m\u001b[39mDeepFace\u001b[39;00m\u001b[39m.\u001b[39;00m\u001b[39mVGGFace\u001b[39;00m\n\u001b[1;32m      7\u001b[0m help(deepface)\n\u001b[1;32m      8\u001b[0m \u001b[39m# from deepface import VGGFace, Facenet, OpenFace, DeepID, ArcFace\u001b[39;00m\n\u001b[1;32m      9\u001b[0m \u001b[39m# # Load VGG-Face model and print its summary to view parameters\u001b[39;00m\n\u001b[1;32m     10\u001b[0m \u001b[39m# vgg_model = VGGFace.loadModel()\u001b[39;00m\n\u001b[0;32m   (...)\u001b[0m\n\u001b[1;32m     21\u001b[0m \u001b[39m# print(\"\\nRange of weights in first VGG-Face layer:\")\u001b[39;00m\n\u001b[1;32m     22\u001b[0m \u001b[39m# print(\"Min:\", vgg_weights[0].min(), \"Max:\", vgg_weights[0].max())\u001b[39;00m\n",
      "File \u001b[0;32m/opt/homebrew/lib/python3.10/site-packages/deepface/DeepFace.py:20\u001b[0m\n\u001b[1;32m     18\u001b[0m \u001b[39mfrom\u001b[39;00m \u001b[39mdeepface\u001b[39;00m\u001b[39m.\u001b[39;00m\u001b[39mcommons\u001b[39;00m \u001b[39mimport\u001b[39;00m package_utils, folder_utils\n\u001b[1;32m     19\u001b[0m \u001b[39mfrom\u001b[39;00m \u001b[39mdeepface\u001b[39;00m\u001b[39m.\u001b[39;00m\u001b[39mcommons\u001b[39;00m\u001b[39m.\u001b[39;00m\u001b[39mlogger\u001b[39;00m \u001b[39mimport\u001b[39;00m Logger\n\u001b[0;32m---> 20\u001b[0m \u001b[39mfrom\u001b[39;00m \u001b[39mdeepface\u001b[39;00m\u001b[39m.\u001b[39;00m\u001b[39mmodules\u001b[39;00m \u001b[39mimport\u001b[39;00m (\n\u001b[1;32m     21\u001b[0m     modeling,\n\u001b[1;32m     22\u001b[0m     representation,\n\u001b[1;32m     23\u001b[0m     verification,\n\u001b[1;32m     24\u001b[0m     recognition,\n\u001b[1;32m     25\u001b[0m     demography,\n\u001b[1;32m     26\u001b[0m     detection,\n\u001b[1;32m     27\u001b[0m     streaming,\n\u001b[1;32m     28\u001b[0m     preprocessing,\n\u001b[1;32m     29\u001b[0m )\n\u001b[1;32m     30\u001b[0m \u001b[39mfrom\u001b[39;00m \u001b[39mdeepface\u001b[39;00m \u001b[39mimport\u001b[39;00m __version__\n\u001b[1;32m     32\u001b[0m logger \u001b[39m=\u001b[39m Logger()\n",
      "File \u001b[0;32m/opt/homebrew/lib/python3.10/site-packages/deepface/modules/modeling.py:5\u001b[0m\n\u001b[1;32m      2\u001b[0m \u001b[39mfrom\u001b[39;00m \u001b[39mtyping\u001b[39;00m \u001b[39mimport\u001b[39;00m Any\n\u001b[1;32m      4\u001b[0m \u001b[39m# project dependencies\u001b[39;00m\n\u001b[0;32m----> 5\u001b[0m \u001b[39mfrom\u001b[39;00m \u001b[39mdeepface\u001b[39;00m\u001b[39m.\u001b[39;00m\u001b[39mmodels\u001b[39;00m\u001b[39m.\u001b[39;00m\u001b[39mfacial_recognition\u001b[39;00m \u001b[39mimport\u001b[39;00m (\n\u001b[1;32m      6\u001b[0m     VGGFace,\n\u001b[1;32m      7\u001b[0m     OpenFace,\n\u001b[1;32m      8\u001b[0m     FbDeepFace,\n\u001b[1;32m      9\u001b[0m     DeepID,\n\u001b[1;32m     10\u001b[0m     ArcFace,\n\u001b[1;32m     11\u001b[0m     SFace,\n\u001b[1;32m     12\u001b[0m     Dlib,\n\u001b[1;32m     13\u001b[0m     Facenet,\n\u001b[1;32m     14\u001b[0m     GhostFaceNet,\n\u001b[1;32m     15\u001b[0m )\n\u001b[1;32m     16\u001b[0m \u001b[39mfrom\u001b[39;00m \u001b[39mdeepface\u001b[39;00m\u001b[39m.\u001b[39;00m\u001b[39mmodels\u001b[39;00m\u001b[39m.\u001b[39;00m\u001b[39mface_detection\u001b[39;00m \u001b[39mimport\u001b[39;00m (\n\u001b[1;32m     17\u001b[0m     FastMtCnn,\n\u001b[1;32m     18\u001b[0m     MediaPipe,\n\u001b[0;32m   (...)\u001b[0m\n\u001b[1;32m     26\u001b[0m     CenterFace,\n\u001b[1;32m     27\u001b[0m )\n\u001b[1;32m     28\u001b[0m \u001b[39mfrom\u001b[39;00m \u001b[39mdeepface\u001b[39;00m\u001b[39m.\u001b[39;00m\u001b[39mmodels\u001b[39;00m\u001b[39m.\u001b[39;00m\u001b[39mdemography\u001b[39;00m \u001b[39mimport\u001b[39;00m Age, Gender, Race, Emotion\n",
      "File \u001b[0;32m/opt/homebrew/lib/python3.10/site-packages/deepface/models/facial_recognition/VGGFace.py:6\u001b[0m\n\u001b[1;32m      4\u001b[0m \u001b[39mimport\u001b[39;00m \u001b[39mnumpy\u001b[39;00m \u001b[39mas\u001b[39;00m \u001b[39mnp\u001b[39;00m\n\u001b[1;32m      5\u001b[0m \u001b[39mfrom\u001b[39;00m \u001b[39mdeepface\u001b[39;00m\u001b[39m.\u001b[39;00m\u001b[39mcommons\u001b[39;00m \u001b[39mimport\u001b[39;00m package_utils, folder_utils\n\u001b[0;32m----> 6\u001b[0m \u001b[39mfrom\u001b[39;00m \u001b[39mdeepface\u001b[39;00m\u001b[39m.\u001b[39;00m\u001b[39mmodules\u001b[39;00m \u001b[39mimport\u001b[39;00m verification\n\u001b[1;32m      7\u001b[0m \u001b[39mfrom\u001b[39;00m \u001b[39mdeepface\u001b[39;00m\u001b[39m.\u001b[39;00m\u001b[39mmodels\u001b[39;00m\u001b[39m.\u001b[39;00m\u001b[39mFacialRecognition\u001b[39;00m \u001b[39mimport\u001b[39;00m FacialRecognition\n\u001b[1;32m      8\u001b[0m \u001b[39mfrom\u001b[39;00m \u001b[39mdeepface\u001b[39;00m\u001b[39m.\u001b[39;00m\u001b[39mcommons\u001b[39;00m\u001b[39m.\u001b[39;00m\u001b[39mlogger\u001b[39;00m \u001b[39mimport\u001b[39;00m Logger\n",
      "File \u001b[0;32m/opt/homebrew/lib/python3.10/site-packages/deepface/modules/verification.py:9\u001b[0m\n\u001b[1;32m      6\u001b[0m \u001b[39mimport\u001b[39;00m \u001b[39mnumpy\u001b[39;00m \u001b[39mas\u001b[39;00m \u001b[39mnp\u001b[39;00m\n\u001b[1;32m      8\u001b[0m \u001b[39m# project dependencies\u001b[39;00m\n\u001b[0;32m----> 9\u001b[0m \u001b[39mfrom\u001b[39;00m \u001b[39mdeepface\u001b[39;00m\u001b[39m.\u001b[39;00m\u001b[39mmodules\u001b[39;00m \u001b[39mimport\u001b[39;00m representation, detection, modeling\n\u001b[1;32m     10\u001b[0m \u001b[39mfrom\u001b[39;00m \u001b[39mdeepface\u001b[39;00m\u001b[39m.\u001b[39;00m\u001b[39mmodels\u001b[39;00m\u001b[39m.\u001b[39;00m\u001b[39mFacialRecognition\u001b[39;00m \u001b[39mimport\u001b[39;00m FacialRecognition\n\u001b[1;32m     11\u001b[0m \u001b[39mfrom\u001b[39;00m \u001b[39mdeepface\u001b[39;00m\u001b[39m.\u001b[39;00m\u001b[39mcommons\u001b[39;00m\u001b[39m.\u001b[39;00m\u001b[39mlogger\u001b[39;00m \u001b[39mimport\u001b[39;00m Logger\n",
      "File \u001b[0;32m/opt/homebrew/lib/python3.10/site-packages/deepface/modules/representation.py:9\u001b[0m\n\u001b[1;32m      7\u001b[0m \u001b[39m# project dependencies\u001b[39;00m\n\u001b[1;32m      8\u001b[0m \u001b[39mfrom\u001b[39;00m \u001b[39mdeepface\u001b[39;00m\u001b[39m.\u001b[39;00m\u001b[39mcommons\u001b[39;00m \u001b[39mimport\u001b[39;00m image_utils\n\u001b[0;32m----> 9\u001b[0m \u001b[39mfrom\u001b[39;00m \u001b[39mdeepface\u001b[39;00m\u001b[39m.\u001b[39;00m\u001b[39mmodules\u001b[39;00m \u001b[39mimport\u001b[39;00m modeling, detection, preprocessing\n\u001b[1;32m     10\u001b[0m \u001b[39mfrom\u001b[39;00m \u001b[39mdeepface\u001b[39;00m\u001b[39m.\u001b[39;00m\u001b[39mmodels\u001b[39;00m\u001b[39m.\u001b[39;00m\u001b[39mFacialRecognition\u001b[39;00m \u001b[39mimport\u001b[39;00m FacialRecognition\n\u001b[1;32m     13\u001b[0m \u001b[39mdef\u001b[39;00m \u001b[39mrepresent\u001b[39m(\n\u001b[1;32m     14\u001b[0m     img_path: Union[\u001b[39mstr\u001b[39m, np\u001b[39m.\u001b[39mndarray],\n\u001b[1;32m     15\u001b[0m     model_name: \u001b[39mstr\u001b[39m \u001b[39m=\u001b[39m \u001b[39m\"\u001b[39m\u001b[39mVGG-Face\u001b[39m\u001b[39m\"\u001b[39m,\n\u001b[0;32m   (...)\u001b[0m\n\u001b[1;32m     22\u001b[0m     max_faces: Optional[\u001b[39mint\u001b[39m] \u001b[39m=\u001b[39m \u001b[39mNone\u001b[39;00m,\n\u001b[1;32m     23\u001b[0m ) \u001b[39m-\u001b[39m\u001b[39m>\u001b[39m List[Dict[\u001b[39mstr\u001b[39m, Any]]:\n",
      "File \u001b[0;32m/opt/homebrew/lib/python3.10/site-packages/deepface/modules/preprocessing.py:16\u001b[0m\n\u001b[1;32m     14\u001b[0m     \u001b[39mfrom\u001b[39;00m \u001b[39mkeras\u001b[39;00m\u001b[39m.\u001b[39;00m\u001b[39mpreprocessing\u001b[39;00m \u001b[39mimport\u001b[39;00m image\n\u001b[1;32m     15\u001b[0m \u001b[39melif\u001b[39;00m tf_major_version \u001b[39m==\u001b[39m \u001b[39m2\u001b[39m:\n\u001b[0;32m---> 16\u001b[0m     \u001b[39mfrom\u001b[39;00m \u001b[39mtensorflow\u001b[39;00m\u001b[39m.\u001b[39;00m\u001b[39mkeras\u001b[39;00m\u001b[39m.\u001b[39;00m\u001b[39mpreprocessing\u001b[39;00m \u001b[39mimport\u001b[39;00m image\n\u001b[1;32m     19\u001b[0m \u001b[39mdef\u001b[39;00m \u001b[39mnormalize_input\u001b[39m(img: np\u001b[39m.\u001b[39mndarray, normalization: \u001b[39mstr\u001b[39m \u001b[39m=\u001b[39m \u001b[39m\"\u001b[39m\u001b[39mbase\u001b[39m\u001b[39m\"\u001b[39m) \u001b[39m-\u001b[39m\u001b[39m>\u001b[39m np\u001b[39m.\u001b[39mndarray:\n\u001b[1;32m     20\u001b[0m \u001b[39m    \u001b[39m\u001b[39m\"\"\"Normalize input image.\u001b[39;00m\n\u001b[1;32m     21\u001b[0m \n\u001b[1;32m     22\u001b[0m \u001b[39m    Args:\u001b[39;00m\n\u001b[0;32m   (...)\u001b[0m\n\u001b[1;32m     28\u001b[0m \u001b[39m        numpy array: the normalized image.\u001b[39;00m\n\u001b[1;32m     29\u001b[0m \u001b[39m    \"\"\"\u001b[39;00m\n",
      "\u001b[0;31mModuleNotFoundError\u001b[0m: No module named 'tensorflow.keras'"
     ]
    }
   ],
   "source": [
    "# !pip install deepface\n",
    "# %pip install deepface\n",
    "\n",
    "import deepface\n",
    "import deepface.models\n",
    "import deepface.DeepFace.VGGFace\n",
    "help(deepface)\n",
    "# from deepface import VGGFace, Facenet, OpenFace, DeepID, ArcFace\n",
    "# # Load VGG-Face model and print its summary to view parameters\n",
    "# vgg_model = VGGFace.loadModel()\n",
    "# print(\"VGG-Face Model Summary:\")\n",
    "# vgg_model.summary()\n",
    "\n",
    "# # Load Facenet model\n",
    "# facenet_model = Facenet.loadModel()\n",
    "# print(\"\\nFacenet Model Summary:\")\n",
    "# facenet_model.summary()\n",
    "\n",
    "# # Example to check weights range for a specific layer\n",
    "# vgg_weights = vgg_model.layers[0].get_weights()\n",
    "# print(\"\\nRange of weights in first VGG-Face layer:\")\n",
    "# print(\"Min:\", vgg_weights[0].min(), \"Max:\", vgg_weights[0].max())"
   ]
  },
  {
   "cell_type": "code",
   "execution_count": 20,
   "metadata": {},
   "outputs": [
    {
     "ename": "ImportError",
     "evalue": "cannot import name 'VGGFace' from 'deepface.models' (/opt/homebrew/lib/python3.10/site-packages/deepface/models/__init__.py)",
     "output_type": "error",
     "traceback": [
      "\u001b[0;31m---------------------------------------------------------------------------\u001b[0m",
      "\u001b[0;31mImportError\u001b[0m                               Traceback (most recent call last)",
      "Cell \u001b[0;32mIn[20], line 1\u001b[0m\n\u001b[0;32m----> 1\u001b[0m \u001b[39mfrom\u001b[39;00m \u001b[39mdeepface\u001b[39;00m\u001b[39m.\u001b[39;00m\u001b[39mmodels\u001b[39;00m \u001b[39mimport\u001b[39;00m VGGFace, Facenet\n\u001b[1;32m      3\u001b[0m \u001b[39m# Load VGG-Face model and print its summary to view parameters\u001b[39;00m\n\u001b[1;32m      4\u001b[0m vgg_model \u001b[39m=\u001b[39m VGGFace\u001b[39m.\u001b[39mloadModel()\n",
      "\u001b[0;31mImportError\u001b[0m: cannot import name 'VGGFace' from 'deepface.models' (/opt/homebrew/lib/python3.10/site-packages/deepface/models/__init__.py)"
     ]
    }
   ],
   "source": [
    "from deepface.models import VGGFace, Facenet\n",
    "\n",
    "# Load VGG-Face model and print its summary to view parameters\n",
    "vgg_model = VGGFace.loadModel()\n",
    "print(\"VGG-Face Model Summary:\")\n",
    "vgg_model.summary()\n",
    "\n",
    "# Load Facenet model\n",
    "facenet_model = Facenet.loadModel()\n",
    "print(\"\\nFacenet Model Summary:\")\n",
    "facenet_model.summary()\n",
    "\n",
    "# Example to check weights range for a specific layer\n",
    "vgg_weights = vgg_model.layers[0].get_weights()\n",
    "print(\"\\nRange of weights in first VGG-Face layer:\")\n",
    "print(\"Min:\", vgg_weights[0].min(), \"Max:\", vgg_weights[0].max())"
   ]
  }
 ],
 "metadata": {
  "kernelspec": {
   "display_name": "Python 3",
   "language": "python",
   "name": "python3"
  },
  "language_info": {
   "codemirror_mode": {
    "name": "ipython",
    "version": 3
   },
   "file_extension": ".py",
   "mimetype": "text/x-python",
   "name": "python",
   "nbconvert_exporter": "python",
   "pygments_lexer": "ipython3",
   "version": "3.10.14"
  },
  "orig_nbformat": 4
 },
 "nbformat": 4,
 "nbformat_minor": 2
}
